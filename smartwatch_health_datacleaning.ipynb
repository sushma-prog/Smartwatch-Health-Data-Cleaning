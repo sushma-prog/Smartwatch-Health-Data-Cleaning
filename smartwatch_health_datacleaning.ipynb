{
 "cells": [
  {
   "cell_type": "code",
   "execution_count": 1,
   "id": "137dc64c-60a7-43e8-b70a-f2e4d36dce72",
   "metadata": {},
   "outputs": [
    {
     "data": {
      "text/html": [
       "<div>\n",
       "<style scoped>\n",
       "    .dataframe tbody tr th:only-of-type {\n",
       "        vertical-align: middle;\n",
       "    }\n",
       "\n",
       "    .dataframe tbody tr th {\n",
       "        vertical-align: top;\n",
       "    }\n",
       "\n",
       "    .dataframe thead th {\n",
       "        text-align: right;\n",
       "    }\n",
       "</style>\n",
       "<table border=\"1\" class=\"dataframe\">\n",
       "  <thead>\n",
       "    <tr style=\"text-align: right;\">\n",
       "      <th></th>\n",
       "      <th>User ID</th>\n",
       "      <th>Heart Rate (BPM)</th>\n",
       "      <th>Blood Oxygen Level (%)</th>\n",
       "      <th>Step Count</th>\n",
       "      <th>Sleep Duration (hours)</th>\n",
       "      <th>Activity Level</th>\n",
       "      <th>Stress Level</th>\n",
       "    </tr>\n",
       "  </thead>\n",
       "  <tbody>\n",
       "    <tr>\n",
       "      <th>0</th>\n",
       "      <td>4174.0</td>\n",
       "      <td>58.939776</td>\n",
       "      <td>98.809650</td>\n",
       "      <td>5450.390578</td>\n",
       "      <td>7.167235622316564</td>\n",
       "      <td>Highly Active</td>\n",
       "      <td>1</td>\n",
       "    </tr>\n",
       "    <tr>\n",
       "      <th>1</th>\n",
       "      <td>NaN</td>\n",
       "      <td>NaN</td>\n",
       "      <td>98.532195</td>\n",
       "      <td>727.601610</td>\n",
       "      <td>6.538239375570314</td>\n",
       "      <td>Highly_Active</td>\n",
       "      <td>5</td>\n",
       "    </tr>\n",
       "    <tr>\n",
       "      <th>2</th>\n",
       "      <td>1860.0</td>\n",
       "      <td>247.803052</td>\n",
       "      <td>97.052954</td>\n",
       "      <td>2826.521994</td>\n",
       "      <td>ERROR</td>\n",
       "      <td>Highly Active</td>\n",
       "      <td>5</td>\n",
       "    </tr>\n",
       "    <tr>\n",
       "      <th>3</th>\n",
       "      <td>2294.0</td>\n",
       "      <td>40.000000</td>\n",
       "      <td>96.894213</td>\n",
       "      <td>13797.338044</td>\n",
       "      <td>7.367789630207228</td>\n",
       "      <td>Actve</td>\n",
       "      <td>3</td>\n",
       "    </tr>\n",
       "    <tr>\n",
       "      <th>4</th>\n",
       "      <td>2130.0</td>\n",
       "      <td>61.950165</td>\n",
       "      <td>98.583797</td>\n",
       "      <td>15679.067648</td>\n",
       "      <td>NaN</td>\n",
       "      <td>Highly_Active</td>\n",
       "      <td>6</td>\n",
       "    </tr>\n",
       "  </tbody>\n",
       "</table>\n",
       "</div>"
      ],
      "text/plain": [
       "   User ID  Heart Rate (BPM)  Blood Oxygen Level (%)    Step Count  \\\n",
       "0   4174.0         58.939776               98.809650   5450.390578   \n",
       "1      NaN               NaN               98.532195    727.601610   \n",
       "2   1860.0        247.803052               97.052954   2826.521994   \n",
       "3   2294.0         40.000000               96.894213  13797.338044   \n",
       "4   2130.0         61.950165               98.583797  15679.067648   \n",
       "\n",
       "  Sleep Duration (hours) Activity Level Stress Level  \n",
       "0      7.167235622316564  Highly Active            1  \n",
       "1      6.538239375570314  Highly_Active            5  \n",
       "2                  ERROR  Highly Active            5  \n",
       "3      7.367789630207228          Actve            3  \n",
       "4                    NaN  Highly_Active            6  "
      ]
     },
     "execution_count": 1,
     "metadata": {},
     "output_type": "execute_result"
    }
   ],
   "source": [
    "import pandas as pd\n",
    "df = pd.read_csv(\"unclean_smartwatch_health_data.csv\")\n",
    "df.head()"
   ]
  },
  {
   "cell_type": "code",
   "execution_count": 2,
   "id": "32973c89-5d59-4b1d-b9ee-8f4d08eefecc",
   "metadata": {},
   "outputs": [
    {
     "name": "stdout",
     "output_type": "stream",
     "text": [
      "<class 'pandas.core.frame.DataFrame'>\n",
      "RangeIndex: 10000 entries, 0 to 9999\n",
      "Data columns (total 7 columns):\n",
      " #   Column                  Non-Null Count  Dtype  \n",
      "---  ------                  --------------  -----  \n",
      " 0   User ID                 9799 non-null   float64\n",
      " 1   Heart Rate (BPM)        9600 non-null   float64\n",
      " 2   Blood Oxygen Level (%)  9700 non-null   float64\n",
      " 3   Step Count              9900 non-null   float64\n",
      " 4   Sleep Duration (hours)  9850 non-null   object \n",
      " 5   Activity Level          9800 non-null   object \n",
      " 6   Stress Level            9800 non-null   object \n",
      "dtypes: float64(4), object(3)\n",
      "memory usage: 547.0+ KB\n",
      "None\n",
      "User ID                   201\n",
      "Heart Rate (BPM)          400\n",
      "Blood Oxygen Level (%)    300\n",
      "Step Count                100\n",
      "Sleep Duration (hours)    150\n",
      "Activity Level            200\n",
      "Stress Level              200\n",
      "dtype: int64\n",
      "0\n"
     ]
    }
   ],
   "source": [
    "print(df.info())\n",
    "\n",
    "print(df.isnull().sum())  \n",
    "\n",
    "print(df.duplicated().sum())"
   ]
  },
  {
   "cell_type": "markdown",
   "id": "45335bb4-7f65-40eb-9ee6-37fa7c131c83",
   "metadata": {},
   "source": [
    "**Filling missing numerical values with median**"
   ]
  },
  {
   "cell_type": "code",
   "execution_count": 3,
   "id": "850e9673-b636-41cf-b309-17f04fad667e",
   "metadata": {},
   "outputs": [
    {
     "name": "stderr",
     "output_type": "stream",
     "text": [
      "C:\\Users\\lucky\\AppData\\Local\\Temp\\ipykernel_17584\\3274921629.py:1: FutureWarning: A value is trying to be set on a copy of a DataFrame or Series through chained assignment using an inplace method.\n",
      "The behavior will change in pandas 3.0. This inplace method will never work because the intermediate object on which we are setting values always behaves as a copy.\n",
      "\n",
      "For example, when doing 'df[col].method(value, inplace=True)', try using 'df.method({col: value}, inplace=True)' or df[col] = df[col].method(value) instead, to perform the operation inplace on the original object.\n",
      "\n",
      "\n",
      "  df[\"User ID\"].fillna(df[\"User ID\"].median(), inplace=True)\n"
     ]
    }
   ],
   "source": [
    "df[\"User ID\"].fillna(df[\"User ID\"].median(), inplace=True)"
   ]
  },
  {
   "cell_type": "code",
   "execution_count": 4,
   "id": "cffc7557-09af-4b3c-8222-8801412d49aa",
   "metadata": {},
   "outputs": [
    {
     "name": "stderr",
     "output_type": "stream",
     "text": [
      "C:\\Users\\lucky\\AppData\\Local\\Temp\\ipykernel_17584\\255635356.py:1: FutureWarning: A value is trying to be set on a copy of a DataFrame or Series through chained assignment using an inplace method.\n",
      "The behavior will change in pandas 3.0. This inplace method will never work because the intermediate object on which we are setting values always behaves as a copy.\n",
      "\n",
      "For example, when doing 'df[col].method(value, inplace=True)', try using 'df.method({col: value}, inplace=True)' or df[col] = df[col].method(value) instead, to perform the operation inplace on the original object.\n",
      "\n",
      "\n",
      "  df[\"Heart Rate (BPM)\"].fillna(df[\"Heart Rate (BPM)\"].median(), inplace=True)\n"
     ]
    }
   ],
   "source": [
    "df[\"Heart Rate (BPM)\"].fillna(df[\"Heart Rate (BPM)\"].median(), inplace=True)"
   ]
  },
  {
   "cell_type": "code",
   "execution_count": 5,
   "id": "817df416-e90b-4c5a-928c-ac94ac492b55",
   "metadata": {},
   "outputs": [
    {
     "name": "stderr",
     "output_type": "stream",
     "text": [
      "C:\\Users\\lucky\\AppData\\Local\\Temp\\ipykernel_17584\\3501820891.py:1: FutureWarning: A value is trying to be set on a copy of a DataFrame or Series through chained assignment using an inplace method.\n",
      "The behavior will change in pandas 3.0. This inplace method will never work because the intermediate object on which we are setting values always behaves as a copy.\n",
      "\n",
      "For example, when doing 'df[col].method(value, inplace=True)', try using 'df.method({col: value}, inplace=True)' or df[col] = df[col].method(value) instead, to perform the operation inplace on the original object.\n",
      "\n",
      "\n",
      "  df[\"Blood Oxygen Level (%)\"].fillna(df[\"Blood Oxygen Level (%)\"].median(), inplace=True)\n"
     ]
    }
   ],
   "source": [
    "df[\"Blood Oxygen Level (%)\"].fillna(df[\"Blood Oxygen Level (%)\"].median(), inplace=True)"
   ]
  },
  {
   "cell_type": "code",
   "execution_count": 6,
   "id": "a6bda404-e1b7-48e9-bdd2-8e0efa42d79e",
   "metadata": {},
   "outputs": [
    {
     "name": "stderr",
     "output_type": "stream",
     "text": [
      "C:\\Users\\lucky\\AppData\\Local\\Temp\\ipykernel_17584\\972989716.py:1: FutureWarning: A value is trying to be set on a copy of a DataFrame or Series through chained assignment using an inplace method.\n",
      "The behavior will change in pandas 3.0. This inplace method will never work because the intermediate object on which we are setting values always behaves as a copy.\n",
      "\n",
      "For example, when doing 'df[col].method(value, inplace=True)', try using 'df.method({col: value}, inplace=True)' or df[col] = df[col].method(value) instead, to perform the operation inplace on the original object.\n",
      "\n",
      "\n",
      "  df[\"Step Count\"].fillna(df[\"Step Count\"].median(), inplace=True)\n"
     ]
    }
   ],
   "source": [
    "df[\"Step Count\"].fillna(df[\"Step Count\"].median(), inplace=True)"
   ]
  },
  {
   "cell_type": "markdown",
   "id": "9e390544-73b7-422f-aa37-4df5c72006b0",
   "metadata": {},
   "source": [
    "**Filling categorical missing values with mode**"
   ]
  },
  {
   "cell_type": "code",
   "execution_count": 7,
   "id": "cf2c861f-5b7b-480c-8301-30c216242dca",
   "metadata": {},
   "outputs": [
    {
     "name": "stderr",
     "output_type": "stream",
     "text": [
      "C:\\Users\\lucky\\AppData\\Local\\Temp\\ipykernel_17584\\3046034525.py:1: FutureWarning: A value is trying to be set on a copy of a DataFrame or Series through chained assignment using an inplace method.\n",
      "The behavior will change in pandas 3.0. This inplace method will never work because the intermediate object on which we are setting values always behaves as a copy.\n",
      "\n",
      "For example, when doing 'df[col].method(value, inplace=True)', try using 'df.method({col: value}, inplace=True)' or df[col] = df[col].method(value) instead, to perform the operation inplace on the original object.\n",
      "\n",
      "\n",
      "  df[\"Sleep Duration (hours)\"].fillna(df[\"Sleep Duration (hours)\"].mode()[0], inplace=True)\n"
     ]
    }
   ],
   "source": [
    "df[\"Sleep Duration (hours)\"].fillna(df[\"Sleep Duration (hours)\"].mode()[0], inplace=True)"
   ]
  },
  {
   "cell_type": "code",
   "execution_count": 8,
   "id": "13d6a15a-5d38-4323-ae74-e3576dd3ab06",
   "metadata": {},
   "outputs": [
    {
     "name": "stderr",
     "output_type": "stream",
     "text": [
      "C:\\Users\\lucky\\AppData\\Local\\Temp\\ipykernel_17584\\988958862.py:1: FutureWarning: A value is trying to be set on a copy of a DataFrame or Series through chained assignment using an inplace method.\n",
      "The behavior will change in pandas 3.0. This inplace method will never work because the intermediate object on which we are setting values always behaves as a copy.\n",
      "\n",
      "For example, when doing 'df[col].method(value, inplace=True)', try using 'df.method({col: value}, inplace=True)' or df[col] = df[col].method(value) instead, to perform the operation inplace on the original object.\n",
      "\n",
      "\n",
      "  df[\"Activity Level\"].fillna(df[\"Activity Level\"].mode()[0], inplace=True)\n"
     ]
    }
   ],
   "source": [
    "df[\"Activity Level\"].fillna(df[\"Activity Level\"].mode()[0], inplace=True)"
   ]
  },
  {
   "cell_type": "code",
   "execution_count": 9,
   "id": "41f90aab-91f6-408f-842e-33d72f61336d",
   "metadata": {},
   "outputs": [
    {
     "name": "stderr",
     "output_type": "stream",
     "text": [
      "C:\\Users\\lucky\\AppData\\Local\\Temp\\ipykernel_17584\\1403342113.py:1: FutureWarning: A value is trying to be set on a copy of a DataFrame or Series through chained assignment using an inplace method.\n",
      "The behavior will change in pandas 3.0. This inplace method will never work because the intermediate object on which we are setting values always behaves as a copy.\n",
      "\n",
      "For example, when doing 'df[col].method(value, inplace=True)', try using 'df.method({col: value}, inplace=True)' or df[col] = df[col].method(value) instead, to perform the operation inplace on the original object.\n",
      "\n",
      "\n",
      "  df[\"Stress Level\"].fillna(df[\"Stress Level\"].mode()[0], inplace=True)\n"
     ]
    }
   ],
   "source": [
    "df[\"Stress Level\"].fillna(df[\"Stress Level\"].mode()[0], inplace=True)"
   ]
  },
  {
   "cell_type": "markdown",
   "id": "3873d27c-7a16-4e3b-b168-b316e83ffad7",
   "metadata": {},
   "source": [
    "**Fix Data Types**"
   ]
  },
  {
   "cell_type": "markdown",
   "id": "939fd97a-5257-4f96-88c1-d55f0b8726af",
   "metadata": {},
   "source": [
    "fix non-numeric values"
   ]
  },
  {
   "cell_type": "code",
   "execution_count": 10,
   "id": "987e2156-2a35-4197-8e78-359580f5b128",
   "metadata": {},
   "outputs": [
    {
     "name": "stdout",
     "output_type": "stream",
     "text": [
      "['7.167235622316564' '6.538239375570314' 'ERROR' ... '6.91654920303435'\n",
      " '5.691233932149209' '5.691001039740254']\n"
     ]
    }
   ],
   "source": [
    "print(df[\"Sleep Duration (hours)\"].unique())"
   ]
  },
  {
   "cell_type": "markdown",
   "id": "48ff1d2a-00b0-4945-b4a9-7d8fe2cff444",
   "metadata": {},
   "source": [
    "Replace Non-Numeric Values"
   ]
  },
  {
   "cell_type": "code",
   "execution_count": 11,
   "id": "4116fdcf-225c-4af8-9369-58f338912b7e",
   "metadata": {},
   "outputs": [
    {
     "name": "stderr",
     "output_type": "stream",
     "text": [
      "C:\\Users\\lucky\\AppData\\Local\\Temp\\ipykernel_17584\\633886143.py:7: FutureWarning: A value is trying to be set on a copy of a DataFrame or Series through chained assignment using an inplace method.\n",
      "The behavior will change in pandas 3.0. This inplace method will never work because the intermediate object on which we are setting values always behaves as a copy.\n",
      "\n",
      "For example, when doing 'df[col].method(value, inplace=True)', try using 'df.method({col: value}, inplace=True)' or df[col] = df[col].method(value) instead, to perform the operation inplace on the original object.\n",
      "\n",
      "\n",
      "  df[\"Sleep Duration (hours)\"].fillna(df[\"Sleep Duration (hours)\"].median(), inplace=True)\n"
     ]
    }
   ],
   "source": [
    "import numpy as np \n",
    "\n",
    "# Convert non-numeric values to NaN\n",
    "df[\"Sleep Duration (hours)\"] = pd.to_numeric(df[\"Sleep Duration (hours)\"], errors=\"coerce\")\n",
    "\n",
    "# Fill NaN values with median (or mode)\n",
    "df[\"Sleep Duration (hours)\"].fillna(df[\"Sleep Duration (hours)\"].median(), inplace=True)"
   ]
  },
  {
   "cell_type": "code",
   "execution_count": 12,
   "id": "7d79390c-48cb-46f6-b87f-4615e5c9f043",
   "metadata": {},
   "outputs": [],
   "source": [
    "df[\"Activity Level\"] = df[\"Activity Level\"].astype(\"category\")"
   ]
  },
  {
   "cell_type": "code",
   "execution_count": 14,
   "id": "3ae9296a-7c69-465f-86b7-5b7b76bb6f92",
   "metadata": {},
   "outputs": [],
   "source": [
    "df[\"Stress Level\"] = df[\"Stress Level\"].astype(\"category\")"
   ]
  },
  {
   "cell_type": "markdown",
   "id": "0c937ab4-cd3c-4c3d-adff-314433616505",
   "metadata": {},
   "source": [
    "**Outlier Detection**"
   ]
  },
  {
   "cell_type": "code",
   "execution_count": null,
   "id": "011355bd-f83d-46fb-ac55-3f112e0356ab",
   "metadata": {},
   "outputs": [],
   "source": [
    "Plot boxplots to detect extreme values in heart rate, step count, and blood oxygen levels."
   ]
  },
  {
   "cell_type": "code",
   "execution_count": 17,
   "id": "3c8cf79b-7e09-402f-b38b-f04f92d9bfa0",
   "metadata": {},
   "outputs": [
    {
     "data": {
      "image/png": "[encoded data removed]",
      "text/plain": [
       "<Figure size 1000x500 with 1 Axes>"
      ]
     },
     "metadata": {},
     "output_type": "display_data"
    }
   ],
   "source": [
    "import matplotlib.pyplot as plt\n",
    "import seaborn as sns\n",
    "\n",
    "plt.figure(figsize=(10,5))\n",
    "sns.boxplot(x=df[\"Heart Rate (BPM)\"])\n",
    "plt.show()"
   ]
  },
  {
   "cell_type": "code",
   "execution_count": 18,
   "id": "8149ef7c-9448-4260-bbd3-6a18d41107d3",
   "metadata": {},
   "outputs": [
    {
     "data": {
      "image/png": "[encoded data removed]",
      "text/plain": [
       "<Figure size 1000x500 with 1 Axes>"
      ]
     },
     "metadata": {},
     "output_type": "display_data"
    }
   ],
   "source": [
    "plt.figure(figsize=(10,5))\n",
    "sns.boxplot(x=df[\"Step Count\"])\n",
    "plt.show()"
   ]
  },
  {
   "cell_type": "code",
   "execution_count": 20,
   "id": "c5c3b9f3-e9bb-4e34-9133-4b9afc8fdfe8",
   "metadata": {},
   "outputs": [
    {
     "data": {
      "image/png": "[encoded data removed]",
      "text/plain": [
       "<Figure size 1000x500 with 1 Axes>"
      ]
     },
     "metadata": {},
     "output_type": "display_data"
    }
   ],
   "source": [
    "plt.figure(figsize=(10,5))\n",
    "sns.boxplot(x=df[\"Blood Oxygen Level (%)\"])\n",
    "plt.show()"
   ]
  },
  {
   "cell_type": "markdown",
   "id": "884faefc-fda8-4cc2-a2b6-b91c12838f81",
   "metadata": {},
   "source": [
    "Looking at boxplots, we can analyze the severity of outliers for each feature:\n",
    "\n",
    "***Heart Rate (BPM):***\n",
    "\n",
    "Outliers are extreme, exceeding 150 BPM and reaching 300+.\n",
    "\n",
    "Since heart rate rarely exceeds 200 BPM under normal conditions, these could be measurement errors.\n",
    "\n",
    "Best approach: IQR Method (remove outliers).\n",
    "\n",
    "***Step Count:***\n",
    "\n",
    "Heavy skewness with extreme values up to 60,000+.\n",
    "\n",
    "Some people may walk 30,000+ steps in a day, but extreme values could be device errors.\n",
    "\n",
    "Best approach: Winsorization (capping at 95th percentile).\n",
    "\n",
    "***Blood Oxygen Level (%):***\n",
    "\n",
    "Outliers exist but are not highly extreme.\n",
    "\n",
    "Oxygen levels generally range between 90-100%, so minor outliers may be valid.\n",
    "\n",
    "Best approach: Winsorization (capping at 5th and 95th percentiles)."
   ]
  },
  {
   "cell_type": "markdown",
   "id": "ba7ef2ff-5407-4b42-b042-dbce5b7b16e0",
   "metadata": {},
   "source": [
    "***next plan:***\n",
    "\n",
    "✅ We remove incorrect extreme values (Heart Rate). Remove outliers using IQR.\n",
    "\n",
    "✅ We retain valuable high-step count cases (Step Count). Cap extreme values using Winsorization.\n",
    "\n",
    "✅ We keep valid low blood oxygen cases without unrealistic values (Blood Oxygen Level). Cap extreme values using Winsorization."
   ]
  },
  {
   "cell_type": "code",
   "execution_count": 27,
   "id": "cf4ab8a5-cd88-45b1-9691-4f99ced3790c",
   "metadata": {},
   "outputs": [
    {
     "data": {
      "image/png": "[encoded data removed]",
      "text/plain": [
       "<Figure size 1000x500 with 1 Axes>"
      ]
     },
     "metadata": {},
     "output_type": "display_data"
    },
    {
     "data": {
      "image/png": "[encoded data removed]",
      "text/plain": [
       "<Figure size 1000x500 with 1 Axes>"
      ]
     },
     "metadata": {},
     "output_type": "display_data"
    },
    {
     "data": {
      "image/png": "[encoded data removed]",
      "text/plain": [
       "<Figure size 1000x500 with 1 Axes>"
      ]
     },
     "metadata": {},
     "output_type": "display_data"
    }
   ],
   "source": [
    "from scipy.stats.mstats import winsorize\n",
    "\n",
    "# Function to remove outliers using IQR\n",
    "def remove_outliers(df,column):\n",
    "    Q1 = df[column].quantile(0.25)\n",
    "    Q3 = df[column].quantile(0.75)\n",
    "    IQR = Q3 - Q1\n",
    "    lower_bound = Q1 - 1.5 * IQR\n",
    "    upper_bound = Q3 + 1.5 * IQR\n",
    "    return df[(df[column] >= lower_bound) & (df[column] <= upper_bound)]\n",
    "\n",
    "# Remove extreme outliers in Heart Rate\n",
    "df = remove_outliers(df, \"Heart Rate (BPM)\")\n",
    "\n",
    "# Winsorizing Step Count and Blood Oxygen Level (%)\n",
    "df[\"Step Count\"] = winsorize(df[\"Step Count\"], limits=[0, 0.05]) #Likely right-skewed (high extreme values) → Use [0, 0.05] \n",
    "df[\"Blood Oxygen Level (%)\"] = winsorize(df[\"Blood Oxygen Level (%)\"], limits=[0.05, 0.05]) #Usually follows normal distribution with outliers at both ends → Use [0.05, 0.05] \n",
    "\n",
    "# Check if outliers are handled\n",
    "import seaborn as sns\n",
    "import matplotlib.pyplot as plt\n",
    "\n",
    "plt.figure(figsize=(10, 5))\n",
    "sns.boxplot(x=df[\"Heart Rate (BPM)\"])\n",
    "plt.show()\n",
    "\n",
    "plt.figure(figsize=(10, 5))\n",
    "sns.boxplot(x=df[\"Step Count\"])\n",
    "plt.show()\n",
    "\n",
    "plt.figure(figsize=(10, 5))\n",
    "sns.boxplot(x=df[\"Blood Oxygen Level (%)\"])\n",
    "plt.show()"
   ]
  },
  {
   "cell_type": "code",
   "execution_count": 28,
   "id": "7ac366e7-e0b6-480f-b3a5-eb2c58a096ea",
   "metadata": {},
   "outputs": [],
   "source": [
    "df.to_csv(\"cleaned_smartwatch_health_data.csv\", index=False)"
   ]
  },
  {
   "cell_type": "code",
   "execution_count": null,
   "id": "531658a0-b529-48e3-a078-81f51ef7624e",
   "metadata": {},
   "outputs": [],
   "source": []
  }
 ],
 "metadata": {
  "kernelspec": {
   "display_name": "Python 3 (ipykernel)",
   "language": "python",
   "name": "python3"
  },
  "language_info": {
   "codemirror_mode": {
    "name": "ipython",
    "version": 3
   },
   "file_extension": ".py",
   "mimetype": "text/x-python",
   "name": "python",
   "nbconvert_exporter": "python",
   "pygments_lexer": "ipython3",
   "version": "3.12.4"
  }
 },
 "nbformat": 4,
 "nbformat_minor": 5
}
